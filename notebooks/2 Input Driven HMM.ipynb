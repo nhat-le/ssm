{
 "cells": [
  {
   "cell_type": "markdown",
   "metadata": {},
   "source": [
    "# Input Driven HMM\n",
    "\n",
    "This notebook is a simple example of an HMM with exogenous inputs.  The inputs modulate the probability of discrete state transitions via a multiclass logistic regression. Let $z_t \\in \\{1, \\ldots, K\\}$ denote the discrete latent state at time $t$ and $u_t \\in \\mathbb{R}^U$ be the exogenous input at time~$t$.  The transition probability is given by,\n",
    "\n",
    "$$\n",
    "\\begin{align}\n",
    "\\Pr(z_t = k \\mid z_{t-1} = j, u_t) = \n",
    "\\frac{\\exp\\{\\log P_{j,k} + w_k^\\mathsf{T} u_t\\}}\n",
    "{\\sum_{k'=1}^K \\exp\\{\\log P_{j,k'} + w_{k'}^\\mathsf{T} u_t\\}}.\n",
    "\\end{align}\n",
    "$$\n",
    "\n",
    "The parameters of the transition model are $P \\in \\mathbb{R}_+^{K \\times K}$, a baseline set of (unnormalized) transition weights, and $W \\in \\mathbb{R}^{K \\times U}$, a set of input weights. "
   ]
  },
  {
   "cell_type": "markdown",
   "metadata": {},
   "source": [
    "## 1. Setup\n",
    "The line `import ssm` imports the package for use. Here, we have also imported a few other packages for plotting."
   ]
  },
  {
   "cell_type": "code",
   "execution_count": 2,
   "metadata": {},
   "outputs": [],
   "source": [
    "import numpy as np\n",
    "import numpy.random as npr\n",
    "import matplotlib.pyplot as plt\n",
    "import ssm\n",
    "import seaborn as sns\n",
    "from ssm.util import one_hot, find_permutation\n",
    "\n",
    "%matplotlib inline\n",
    "\n",
    "npr.seed(0)\n",
    "sns.set(palette=\"colorblind\")"
   ]
  },
  {
   "cell_type": "markdown",
   "metadata": {},
   "source": [
    "## 2. Create an Input Driven HMM\n",
    "SSM is designed to be modular, so that the user can easily mix and match different types of transitions and observations.  \n",
    "We create an input-driven HMM with the following line:  \n",
    "```python\n",
    "true_hmm = ssm.HMM(num_states, obs_dim, input_dim, \n",
    "               observations=\"categorical\", observation_kwargs=dict(C=num_categories),\n",
    "               transitions=\"inputdriven\")\n",
    "```\n",
    "\n",
    "Let's look at what each of the arguments do. The first three arguments specify the number of states, and the dimensionality of the observations and inputs.\n",
    "\n",
    "**Setting the observation model**  \n",
    "For this example, we have set `observations=\"categorical\"`, which means each observation will take on one of a discrete set of values, i.e $y_t \\in \\{1, \\ldots, C \\}$. \n",
    "For categorical observations, the observations are drawn from a multinomial distribution, with parameters depending on the current state. Assuming $z_t = k$,the observations are a vector $y \\in \\mathbb{R}^D$, where $y_i \\sim \\text{mult} (\\lambda_{k,i})$, where $\\lambda_{k,i}$ is the multinomal parameter associated with coordinate $i$ of the observations in state $k$. Note that each observation variable is independent from the others.\n",
    "\n",
    "For categorical observations, we also specify the number of discrete observations possible (in this case 3). We do this by creating a dictionary where the keys are the keyword arguments which we want to pass to the observation model. For categorical observations, there is just one keyword argument, `C`, which specifies the number of categories. This is set using `observation_kwargs=dict(C=num_categories)`. \n",
    "\n",
    "The observations keyword argument should be one of : `\"gaussian\", \"poisson\" \"studentst\", \"exponential\", \"bernoulli\", \"autoregressive\", \"robust_autoregressive\"`.\n",
    "**NOTE:**\n",
    "Setting the observations as \"autoregressive\" means that each observation will be dependent on the prior observation, as well as on the input (if the input is nonzero). By constrast, the standard \"inputdriven\" transitions are not affected by previous observations or directly by the inputs.\n",
    "\n",
    "**Setting the transition model**  \n",
    "In order to create an HMM with exogenous inputs, we set ```transitions=\"inputdriven\"```. This means that the baseline transition matrix $P$ is modified according to a Generalized Linear Model, as described at the top of the page.\n",
    "\n",
    "SSM support many transition models, set by keyword argument to the constructor of the class. The keyword argument should be one of: `\"standard\", \"sticky\", \"inputdriven\", \"recurrent\", \"recurrent_only\", \"rbf_recurrent\", \"nn_recurrent\".` We're working on creating standalone documentation to describe these in more detail. For most users, the stationary and input driven transition classes should suffice.\n",
    "\n",
    "\n",
    "**Creating inputs and sampling**  \n",
    "After creating our HMM object, we create an input array called `inpt` which is simply a jittered sine wave. We also increase the transition weights so that it will be clear (for demonstration purposes) that the input is changing the transition probabilities. In this case, we will actually increase the weights such that the transitions appear almost deterministic."
   ]
  },
  {
   "cell_type": "code",
   "execution_count": 3,
   "metadata": {},
   "outputs": [],
   "source": [
    "# Set the parameters of the HMM\n",
    "time_bins = 1000 # number of time bins\n",
    "num_states = 2    # number of discrete states\n",
    "obs_dim = 1    # data dimension\n",
    "input_dim = 1    # input dimension\n",
    "num_categories = 3    # number of output types/categories\n",
    "\n",
    "# Make an HMM\n",
    "true_hmm = ssm.HMM(num_states, obs_dim, input_dim, \n",
    "               observations=\"categorical\", observation_kwargs=dict(C=num_categories),\n",
    "               transitions=\"inputdriven\")\n",
    "\n",
    "# Optionally, turn up the input weights to exaggerate the effect\n",
    "true_hmm.transitions.Ws *= 3\n",
    "\n",
    "# Create an exogenous input\n",
    "inpt = np.sin(2 * np.pi * np.arange(time_bins) / 50)[:, None] + 1e-1 * npr.randn(time_bins, input_dim)\n",
    "\n",
    "# Sample some data from the HMM\n",
    "true_states, obs = true_hmm.sample(time_bins, input=inpt)\n",
    "\n",
    "# Compute the true log probability of the data, summing out the discrete states\n",
    "true_lp = true_hmm.log_probability(obs, inputs=inpt)\n",
    "\n",
    "# By default, SSM returns categorical observations as a list of lists.\n",
    "# We convert to a 1D array for plotting.\n",
    "obs_flat = np.array([x[0] for x in obs])"
   ]
  },
  {
   "cell_type": "code",
   "execution_count": 19,
   "metadata": {},
   "outputs": [
    {
     "data": {
      "text/plain": [
       "array([[ 0.77037179, -0.40312928],\n",
       "       [ 1.64201046, -0.85925069],\n",
       "       [ 2.2494287 , -1.17710771],\n",
       "       ...,\n",
       "       [-1.92855912,  1.00919927],\n",
       "       [-1.95378084,  1.02239759],\n",
       "       [ 0.23567837, -0.12332857]])"
      ]
     },
     "execution_count": 19,
     "metadata": {},
     "output_type": "execute_result"
    }
   ],
   "source": [
    "np.dot(inpt[1:], true_hmm.transitions.Ws.T)"
   ]
  },
  {
   "cell_type": "code",
   "execution_count": 22,
   "metadata": {},
   "outputs": [
    {
     "ename": "AttributeError",
     "evalue": "'HMM' object has no attribute 'log_Ps'",
     "output_type": "error",
     "traceback": [
      "\u001b[0;31m---------------------------------------------------------------------------\u001b[0m",
      "\u001b[0;31mAttributeError\u001b[0m                            Traceback (most recent call last)",
      "\u001b[0;32m<ipython-input-22-22f26a52c23f>\u001b[0m in \u001b[0;36m<module>\u001b[0;34m\u001b[0m\n\u001b[0;32m----> 1\u001b[0;31m \u001b[0mtrue_hmm\u001b[0m\u001b[0;34m.\u001b[0m\u001b[0mlog_Ps\u001b[0m\u001b[0;34m\u001b[0m\u001b[0;34m\u001b[0m\u001b[0m\n\u001b[0m",
      "\u001b[0;31mAttributeError\u001b[0m: 'HMM' object has no attribute 'log_Ps'"
     ]
    }
   ],
   "source": [
    "true_hmm.log_Ps"
   ]
  },
  {
   "cell_type": "code",
   "execution_count": 21,
   "metadata": {},
   "outputs": [
    {
     "data": {
      "text/plain": [
       "(1, 2)"
      ]
     },
     "execution_count": 21,
     "metadata": {},
     "output_type": "execute_result"
    }
   ],
   "source": [
    "true_hmm.transitions.Ws.T.shape"
   ]
  },
  {
   "cell_type": "code",
   "execution_count": 4,
   "metadata": {},
   "outputs": [
    {
     "data": {
      "image/png": "[encoded data removed]",
      "text/plain": [
       "<Figure size 576x360 with 3 Axes>"
      ]
     },
     "metadata": {},
     "output_type": "display_data"
    }
   ],
   "source": [
    "# Plot the data\n",
    "plt.figure(figsize=(8, 5))\n",
    "\n",
    "plt.subplot(311)\n",
    "plt.plot(inpt)\n",
    "plt.xticks([])\n",
    "plt.xlim(0, time_bins)\n",
    "plt.ylabel(\"input\")\n",
    "\n",
    "plt.subplot(312)\n",
    "plt.imshow(true_states[None, :], aspect=\"auto\")\n",
    "plt.xticks([])\n",
    "plt.xlim(0, time_bins)\n",
    "plt.ylabel(\"discrete\\nstate\")\n",
    "plt.yticks([])\n",
    "\n",
    "# Create Cmap for visualizing categorical observations\n",
    "plt.subplot(313)\n",
    "plt.imshow(obs_flat[None,:], aspect=\"auto\", )\n",
    "plt.xlim(0, time_bins)\n",
    "plt.ylabel(\"observation\")\n",
    "plt.grid(b=None)\n",
    "plt.show()"
   ]
  },
  {
   "cell_type": "markdown",
   "metadata": {},
   "source": [
    "### 2.1 Exercise: EM for the input-driven HMM\n",
    "There are a few good references that derive the EM algorithm for the case of a vanilla HMM (e.g Machine Learning and Pattern Recognition, by Chris Bishop, and [this tutorial](https://www.ece.ucsb.edu/Faculty/Rabiner/ece259/Reprints/tutorial%20on%20hmm%20and%20applications.pdf) by Lawrence Rabiner. How should the EM updates change for the case of input-driven HMMs?"
   ]
  },
  {
   "cell_type": "markdown",
   "metadata": {},
   "source": [
    "## 3. Fit an input-driven HMM to data\n",
    "Below, we'll show to fit an input-driven HMM from data. We'll treat the samples generated above as a dataset, and try to learn the appropriate HMM parameters from this dataset. \n",
    "\n",
    "We create a new HMM object here, with the same parameters as the HMM in Section 1: \n",
    "```python\n",
    "hmm = ssm.HMM(num_states, obs_dim, input_dim, \n",
    "          observations=\"categorical\", observation_kwargs=dict(C=num_categories),\n",
    "          transitions=\"inputdriven\")\n",
    "```\n",
    "\n",
    "We fit the dataset simply by calling the `fit` method:\n",
    "```python\n",
    "hmm_lps = hmm.fit(obs, inputs=inpt, method=\"em\", num_em_iters=N_iters)\n",
    "```\n",
    "Here, the variable `hmm_lps` will be set to a list of log-probabilities at each step of the EM-algorithm, which we'll use to check convergence."
   ]
  },
  {
   "cell_type": "code",
   "execution_count": 13,
   "metadata": {},
   "outputs": [
    {
     "data": {
      "application/vnd.jupyter.widget-view+json": {
       "model_id": "fbe5a9167c8446cc9190511a3a3dbb74",
       "version_major": 2,
       "version_minor": 0
      },
      "text/plain": [
       "  0%|          | 0/100 [00:00<?, ?it/s]"
      ]
     },
     "metadata": {},
     "output_type": "display_data"
    }
   ],
   "source": [
    "# Now create a new HMM and fit it to the data with EM\n",
    "N_iters = 100\n",
    "hmm = ssm.HMM(num_states, obs_dim, input_dim, \n",
    "          observations=\"categorical\", observation_kwargs=dict(C=num_categories),\n",
    "          transitions=\"inputdriven\")\n",
    "\n",
    "# Fit\n",
    "hmm_lps = hmm.fit(obs, inputs=inpt, method=\"em\", num_iters=N_iters)"
   ]
  },
  {
   "cell_type": "markdown",
   "metadata": {},
   "source": [
    "### 3.1 Permute the latent states, check convergence\n",
    "As in the vanilla-HMM notebook, we need to find a permutation of the latent states from our new hmm such that they match the states from the true HMM above. SSM accomplishes this with two function calls: first, we call `find_permutation(true_states, inferred_states)` which returns a list of indexes into states. \n",
    "\n",
    "Then, we call `hmm.permute(permuation)` with the results of our first function call. Finally, we set `inferred_states` to be the underlying states we predict given the data. \n",
    "\n",
    "Below, we plot the results of the `fit` function in order to check convergence of the EM algorithm. We see that the log-probability from the EM algorithm approaches the true log-probability of the data (which we have stored as `lp_true`)."
   ]
  },
  {
   "cell_type": "code",
   "execution_count": 14,
   "metadata": {},
   "outputs": [],
   "source": [
    "# Find a permutation of the states that best matches the true and inferred states\n",
    "hmm.permute(find_permutation(true_states, hmm.most_likely_states(obs, input=inpt)))\n",
    "inferred_states = hmm.most_likely_states(obs, input=inpt)"
   ]
  },
  {
   "cell_type": "code",
   "execution_count": 15,
   "metadata": {},
   "outputs": [
    {
     "data": {
      "image/png": "[encoded data removed]",
      "text/plain": [
       "<Figure size 432x288 with 1 Axes>"
      ]
     },
     "metadata": {},
     "output_type": "display_data"
    }
   ],
   "source": [
    "# Plot the log probabilities of the true and fit models\n",
    "plt.plot(hmm_lps, label=\"EM\")\n",
    "plt.plot([0, N_iters], true_lp * np.ones(2), ':k', label=\"True\")\n",
    "plt.legend(loc=\"lower right\")\n",
    "plt.xlabel(\"EM Iteration\")\n",
    "plt.xlim(0, N_iters)\n",
    "plt.ylabel(\"Log Probability\")\n",
    "plt.show()"
   ]
  },
  {
   "cell_type": "markdown",
   "metadata": {},
   "source": [
    "### 3.3 Exercise: Change the Fitting Method\n",
    "As an experiment, try fitting the same dataset using another fitting method. The two other fitting methods supported for HMMs are \"sgd\" and \"adam\", which you can set by passing `method=\"sgd\"` and `method=\"adam\"` respectively. For these methods, you'll probably need to increase the number of iteratations to around 1000 or so.\n",
    "\n",
    "After fitting with a different method, re-run the two cells above to generate a plot. How does the convergence of these other methods converge to EM?"
   ]
  },
  {
   "cell_type": "code",
   "execution_count": 16,
   "metadata": {},
   "outputs": [
    {
     "data": {
      "image/png": "[encoded data removed]",
      "text/plain": [
       "<Figure size 576x252 with 2 Axes>"
      ]
     },
     "metadata": {},
     "output_type": "display_data"
    }
   ],
   "source": [
    "# Plot the true and inferred states\n",
    "plt.figure(figsize=(8, 3.5))\n",
    "\n",
    "plt.subplot(211)\n",
    "plt.imshow(true_states[None, :], aspect=\"auto\")\n",
    "plt.xticks([])\n",
    "plt.xlim(0, time_bins)\n",
    "plt.ylabel(\"true\\nstate\")\n",
    "plt.yticks([])\n",
    "\n",
    "plt.subplot(212)\n",
    "plt.imshow(inferred_states[None, :], aspect=\"auto\")\n",
    "plt.xlim(0, time_bins)\n",
    "plt.ylabel(\"inferred\\nstate\")\n",
    "plt.yticks([])\n",
    "plt.show()"
   ]
  },
  {
   "cell_type": "markdown",
   "metadata": {},
   "source": [
    "## 4. Visualize the Learned Parameters\n",
    "After calling `fit`, our new HMM object will have parameters updated according to the dataset. We can get a sense of whether we successfully learned these parameters by comparing them to the _true_ parameters which generated the data. \n",
    "\n",
    "Below, we plot the baseline log transition probabilities (the log of the state-transition matrix) as well as the input weights $w$. "
   ]
  },
  {
   "cell_type": "code",
   "execution_count": 17,
   "metadata": {},
   "outputs": [
    {
     "data": {
      "image/png": "[encoded data removed]",
      "text/plain": [
       "<Figure size 576x288 with 5 Axes>"
      ]
     },
     "metadata": {},
     "output_type": "display_data"
    }
   ],
   "source": [
    "# Plot the true and inferred input effects\n",
    "plt.figure(figsize=(8, 4))\n",
    "\n",
    "vlim = max(abs(true_hmm.transitions.log_Ps).max(),\n",
    "           abs(true_hmm.transitions.Ws).max(),\n",
    "           abs(hmm.transitions.log_Ps).max(),\n",
    "           abs(hmm.transitions.Ws).max())\n",
    "\n",
    "plt.subplot(141)\n",
    "plt.imshow(true_hmm.transitions.log_Ps, vmin=-vlim, vmax=vlim, cmap=\"RdBu\", aspect=1)\n",
    "plt.xticks(np.arange(num_states))\n",
    "plt.yticks(np.arange(num_states))\n",
    "plt.title(\"True\\nBaseline Weights\")\n",
    "plt.grid(b=None)\n",
    "\n",
    "\n",
    "plt.subplot(142)\n",
    "plt.imshow(true_hmm.transitions.Ws, vmin=-vlim, vmax=vlim, cmap=\"RdBu\", aspect=num_states/input_dim)\n",
    "plt.xticks(np.arange(input_dim))\n",
    "plt.yticks(np.arange(num_states))\n",
    "plt.title(\"True\\nInput Weights\")\n",
    "plt.grid(b=None)\n",
    "\n",
    "\n",
    "plt.subplot(143)\n",
    "plt.imshow(hmm.transitions.log_Ps, vmin=-vlim, vmax=vlim, cmap=\"RdBu\", aspect=1)\n",
    "plt.xticks(np.arange(num_states))\n",
    "plt.yticks(np.arange(num_states))\n",
    "plt.title(\"Inferred\\nBaseline Weights\")\n",
    "plt.grid(b=None)\n",
    "\n",
    "\n",
    "plt.subplot(144)\n",
    "plt.imshow(hmm.transitions.Ws, vmin=-vlim, vmax=vlim, cmap=\"RdBu\", aspect=num_states/input_dim)\n",
    "plt.xticks(np.arange(input_dim))\n",
    "plt.yticks(np.arange(num_states))\n",
    "plt.title(\"Inferred\\nInput Weights\")\n",
    "plt.grid(b=None)\n",
    "plt.colorbar()\n",
    "plt.show()"
   ]
  },
  {
   "cell_type": "code",
   "execution_count": 24,
   "metadata": {},
   "outputs": [
    {
     "data": {
      "text/plain": [
       "array([[0.96470641, 0.03529359],\n",
       "       [0.02991731, 0.97008269]])"
      ]
     },
     "execution_count": 24,
     "metadata": {},
     "output_type": "execute_result"
    }
   ],
   "source": [
    "np.exp(true_hmm.transitions.log_Ps)"
   ]
  },
  {
   "cell_type": "code",
   "execution_count": 25,
   "metadata": {},
   "outputs": [
    {
     "data": {
      "text/plain": [
       "array([[ 5.60267397],\n",
       "       [-2.93183364]])"
      ]
     },
     "execution_count": 25,
     "metadata": {},
     "output_type": "execute_result"
    }
   ],
   "source": [
    "true_hmm.transitions.Ws"
   ]
  },
  {
   "cell_type": "code",
   "execution_count": 26,
   "metadata": {},
   "outputs": [
    {
     "data": {
      "text/plain": [
       "array([[ 3.40151154],\n",
       "       [-5.75812834]])"
      ]
     },
     "execution_count": 26,
     "metadata": {},
     "output_type": "execute_result"
    }
   ],
   "source": [
    "hmm.transitions.Ws"
   ]
  },
  {
   "cell_type": "code",
   "execution_count": null,
   "metadata": {},
   "outputs": [],
   "source": []
  }
 ],
 "metadata": {
  "kernelspec": {
   "display_name": "Default",
   "language": "python",
   "name": "default"
  },
  "language_info": {
   "codemirror_mode": {
    "name": "ipython",
    "version": 3
   },
   "file_extension": ".py",
   "mimetype": "text/x-python",
   "name": "python",
   "nbconvert_exporter": "python",
   "pygments_lexer": "ipython3",
   "version": "3.9.5"
  }
 },
 "nbformat": 4,
 "nbformat_minor": 4
}
